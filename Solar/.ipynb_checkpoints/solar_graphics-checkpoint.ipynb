{
 "cells": [
  {
   "cell_type": "code",
   "execution_count": 16,
   "metadata": {
    "collapsed": false
   },
   "outputs": [
    {
     "name": "stdout",
     "output_type": "stream",
     "text": [
      "Populating the interactive namespace from numpy and matplotlib\n"
     ]
    },
    {
     "name": "stderr",
     "output_type": "stream",
     "text": [
      "WARNING: pylab import has clobbered these variables: ['griddata']\n",
      "`%matplotlib` prevents importing * from pylab and numpy\n"
     ]
    }
   ],
   "source": [
    "from matplotlib import cm\n",
    "from matplotlib import pyplot\n",
    "import numpy as np\n",
    "import sys\n",
    "from matplotlib.backends.backend_pdf import PdfPages\n",
    "from scipy.interpolate import griddata\n",
    "%pylab inline"
   ]
  },
  {
   "cell_type": "code",
   "execution_count": 17,
   "metadata": {
    "collapsed": false
   },
   "outputs": [],
   "source": [
    "arr = np.loadtxt(sys.argv[0]) #array = loadtxt(sys.argv[0]))\n",
    "a = arr[0]\n",
    "b= arr[1]\n",
    "c= arr[2]\n",
    "d=arr[3]\n",
    "l=arr[4]"
   ]
  },
  {
   "cell_type": "code",
   "execution_count": 19,
   "metadata": {
    "collapsed": false
   },
   "outputs": [],
   "source": [
    "min_a = np.amin(a)\n",
    "max_a = np.amax(a)\n",
    "min_b = np.amin(b)\n",
    "max_b = np.amax(b)\n",
    "min_c = np.amin(c)\n",
    "max_c = np.amax(c)\n",
    "min_d = np.amin(d)\n",
    "max_d = np.amax(d)\n",
    "grid_a, grid_b = np.mgrid[min_a:max_a:200j, min_b:max_b:200j]\n"
   ]
  },
  {
   "cell_type": "code",
   "execution_count": null,
   "metadata": {
    "collapsed": false
   },
   "outputs": [],
   "source": [
    "\n"
   ]
  },
  {
   "cell_type": "code",
   "execution_count": null,
   "metadata": {
    "collapsed": true
   },
   "outputs": [],
   "source": [
    "-"
   ]
  },
  {
   "cell_type": "code",
   "execution_count": null,
   "metadata": {
    "collapsed": true
   },
   "outputs": [],
   "source": []
  },
  {
   "cell_type": "code",
   "execution_count": null,
   "metadata": {
    "collapsed": true
   },
   "outputs": [],
   "source": []
  }
 ],
 "metadata": {
  "kernelspec": {
   "display_name": "Python 2",
   "language": "python",
   "name": "python2"
  },
  "language_info": {
   "codemirror_mode": {
    "name": "ipython",
    "version": 2
   },
   "file_extension": ".py",
   "mimetype": "text/x-python",
   "name": "python",
   "nbconvert_exporter": "python",
   "pygments_lexer": "ipython2",
   "version": "2.7.6"
  }
 },
 "nbformat": 4,
 "nbformat_minor": 0
}
